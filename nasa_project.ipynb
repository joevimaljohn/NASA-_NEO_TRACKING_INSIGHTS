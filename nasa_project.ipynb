{
  "cells": [
    {
      "cell_type": "markdown",
      "metadata": {
        "id": "view-in-github",
        "colab_type": "text"
      },
      "source": [
        "<a href=\"https://colab.research.google.com/github/joevimaljohn/NASA-_NEO_TRACKING_INSIGHTS/blob/main/nasa_project.ipynb\" target=\"_parent\"><img src=\"https://colab.research.google.com/assets/colab-badge.svg\" alt=\"Open In Colab\"/></a>"
      ]
    },
    {
      "cell_type": "code",
      "execution_count": null,
      "metadata": {
        "id": "gzBp8TKS4uwI"
      },
      "outputs": [],
      "source": [
        "API_KEY=\"lUSA1klJSHHXeBfelE8Co3TT0DIfwqlm9EOgGFMO\"\n",
        "import requests\n",
        "\n",
        "url  = f\"https://api.nasa.gov/neo/rest/v1/feed?start_date=2024-01-01&end_date=2024-01-07&api_key={API_KEY}\"\n",
        "\n",
        "response = requests.get(url)\n",
        "\n",
        "response"
      ]
    },
    {
      "cell_type": "code",
      "execution_count": null,
      "metadata": {
        "id": "MYR71PMO5ayw"
      },
      "outputs": [],
      "source": [
        "data = response.json()\n",
        "\n",
        "data"
      ]
    },
    {
      "cell_type": "code",
      "execution_count": null,
      "metadata": {
        "id": "r-SygE015h8S"
      },
      "outputs": [],
      "source": [
        "data.keys()"
      ]
    },
    {
      "cell_type": "code",
      "execution_count": null,
      "metadata": {
        "id": "TFFukzCE5xuL"
      },
      "outputs": [],
      "source": [
        "data['links']['next']"
      ]
    },
    {
      "cell_type": "code",
      "execution_count": null,
      "metadata": {
        "id": "hA2xeMk26CVz"
      },
      "outputs": [],
      "source": [
        "data['element_count']"
      ]
    },
    {
      "cell_type": "code",
      "execution_count": null,
      "metadata": {
        "id": "bEEIH2hpHKKQ"
      },
      "outputs": [],
      "source": [
        "\n",
        "approach_date = data['near_earth_objects']['2024-01-01'][0]['close_approach_data'][0]['close_approach_date']\n",
        "approach_date_obj = datetime.strptime(approach_date, \"%Y-%m-%d\")\n",
        "approach_date_obj"
      ]
    },
    {
      "cell_type": "code",
      "execution_count": null,
      "metadata": {
        "id": "BLCPsvFc7UjP"
      },
      "outputs": [],
      "source": [
        "data['near_earth_objects']['2024-01-01'][0]['estimated_diameter']['kilometers']['estimated_diameter_min']"
      ]
    },
    {
      "cell_type": "code",
      "execution_count": null,
      "metadata": {
        "id": "31-suiec6TC1"
      },
      "outputs": [],
      "source": [
        "data['near_earth_objects'].keys()"
      ]
    },
    {
      "cell_type": "code",
      "execution_count": null,
      "metadata": {
        "id": "94mAVLaMb756"
      },
      "outputs": [],
      "source": [
        "!pip install streamlit"
      ]
    },
    {
      "cell_type": "code",
      "execution_count": null,
      "metadata": {
        "id": "JGCAj3w8vCA9",
        "colab": {
          "base_uri": "https://localhost:8080/"
        },
        "outputId": "0639b570-7f14-483b-ab93-8d627cdd0fe4"
      },
      "outputs": [
        {
          "output_type": "stream",
          "name": "stdout",
          "text": [
            "Requirement already satisfied: mysql.connector in /usr/local/lib/python3.11/dist-packages (2.2.9)\n"
          ]
        }
      ],
      "source": [
        "!pip install mysql.connector"
      ]
    },
    {
      "cell_type": "code",
      "execution_count": null,
      "metadata": {
        "id": "AVtPUzyK8ORD"
      },
      "outputs": [],
      "source": [
        "import requests\n",
        "from datetime import datetime\n",
        "\n",
        "\n",
        "\n",
        "API_KEY = \"lUSA1klJSHHXeBfelE8Co3TT0DIfwqlm9EOgGFMO\"\n",
        "asteroids_data = []\n",
        "target = 10000\n",
        "url = f\"https://api.nasa.gov/neo/rest/v1/feed?start_date=2024-01-01&end_date=2024-01-07&api_key={API_KEY}\"\n",
        "\n",
        "while len(asteroids_data) < target:\n",
        "    response = requests.get(url)\n",
        "    data = response.json()\n",
        "    details = data['near_earth_objects']\n",
        "\n",
        "    for date, asteroids in details.items():\n",
        "        for ast in asteroids:\n",
        "\n",
        "            if not ast['close_approach_data']:\n",
        "                continue\n",
        "\n",
        "            approach = ast['close_approach_data'][0]\n",
        "\n",
        "            approach_date = approach['close_approach_date']\n",
        "            approach_date_obj = datetime.strptime(approach_date, \"%Y-%m-%d\")\n",
        "\n",
        "\n",
        "            asteroid_info = dict(\n",
        "                id=int(ast['id']),\n",
        "                neo_ref_id=int(ast['neo_reference_id']),\n",
        "                name=ast['name'],\n",
        "                magnitude=float(ast['absolute_magnitude_h']),\n",
        "                estimated_dia_min=float(ast['estimated_diameter']['kilometers']['estimated_diameter_min']),\n",
        "                estimated_dia_max=float(ast['estimated_diameter']['kilometers']['estimated_diameter_max']),\n",
        "                hazardous_asteroid=bool(ast['is_potentially_hazardous_asteroid']),\n",
        "                close_approach_date=approach_date_obj,\n",
        "                relativevelocity=float(approach['relative_velocity']['kilometers_per_hour']),\n",
        "                astronomical=float(approach['miss_distance']['astronomical']),\n",
        "                missdistancekm=float(approach['miss_distance']['kilometers']),\n",
        "                missdistancelunar=float(approach['miss_distance']['lunar']),\n",
        "                orbitingbody=approach['orbiting_body']\n",
        "            )\n",
        "\n",
        "            asteroids_data.append(asteroid_info)\n",
        "\n",
        "            if len(asteroids_data) >= target:\n",
        "                break\n",
        "        if len(asteroids_data) >= target:\n",
        "            break\n",
        "\n",
        "\n",
        "    url = data.get('links', {}).get('next', None)\n",
        "    if not url:\n",
        "        break\n",
        "\n"
      ]
    },
    {
      "cell_type": "code",
      "execution_count": null,
      "metadata": {
        "colab": {
          "base_uri": "https://localhost:8080/"
        },
        "id": "9R51J_COREvz",
        "outputId": "697478d3-4f3a-447b-f21a-d09b0db47257"
      },
      "outputs": [
        {
          "output_type": "execute_result",
          "data": {
            "text/plain": [
              "10000"
            ]
          },
          "metadata": {},
          "execution_count": 64
        }
      ],
      "source": [
        "len(asteroids_data)"
      ]
    },
    {
      "cell_type": "code",
      "execution_count": null,
      "metadata": {
        "colab": {
          "base_uri": "https://localhost:8080/"
        },
        "id": "n81LqTVIeDkN",
        "outputId": "f65aa38f-66bc-47b3-b6c6-45615b7433e1"
      },
      "outputs": [
        {
          "output_type": "execute_result",
          "data": {
            "text/plain": [
              "{'id': 2415949,\n",
              " 'neo_ref_id': 2415949,\n",
              " 'name': '415949 (2001 XY10)',\n",
              " 'magnitude': 19.37,\n",
              " 'estimated_dia_min': 0.3552670883,\n",
              " 'estimated_dia_max': 0.7944013596,\n",
              " 'hazardous_asteroid': False,\n",
              " 'close_approach_date': datetime.datetime(2024, 1, 2, 0, 0),\n",
              " 'relativevelocity': 57205.8951204341,\n",
              " 'astronomical': 0.3372535274,\n",
              " 'missdistancekm': 50452409.349026635,\n",
              " 'missdistancelunar': 131.1916221586,\n",
              " 'orbitingbody': 'Earth'}"
            ]
          },
          "metadata": {},
          "execution_count": 65
        }
      ],
      "source": [
        "asteroids_data[0]"
      ]
    },
    {
      "cell_type": "code",
      "execution_count": null,
      "metadata": {
        "id": "dSI3Xey60KWS",
        "colab": {
          "base_uri": "https://localhost:8080/"
        },
        "outputId": "88e79544-9286-4495-d368-3ae167de43ff"
      },
      "outputs": [
        {
          "output_type": "stream",
          "name": "stdout",
          "text": [
            "Collecting mysql.connector\n",
            "  Downloading mysql-connector-2.2.9.tar.gz (11.9 MB)\n",
            "\u001b[2K     \u001b[90m━━━━━━━━━━━━━━━━━━━━━━━━━━━━━━━━━━━━━━━\u001b[0m \u001b[32m11.9/11.9 MB\u001b[0m \u001b[31m108.5 MB/s\u001b[0m eta \u001b[36m0:00:00\u001b[0m\n",
            "\u001b[?25h  Preparing metadata (setup.py) ... \u001b[?25l\u001b[?25hdone\n",
            "Building wheels for collected packages: mysql.connector\n",
            "  Building wheel for mysql.connector (setup.py) ... \u001b[?25l\u001b[?25hdone\n",
            "  Created wheel for mysql.connector: filename=mysql_connector-2.2.9-cp311-cp311-linux_x86_64.whl size=247951 sha256=820896ad4080c95585b88f8b3f2bd2043f74bdff9048a34b0daf0404063968a9\n",
            "  Stored in directory: /root/.cache/pip/wheels/17/cd/ed/2d49e9bac69cf09382e4c7cc20a2511202b48324b87db26019\n",
            "Successfully built mysql.connector\n",
            "Installing collected packages: mysql.connector\n",
            "Successfully installed mysql.connector-2.2.9\n"
          ]
        }
      ],
      "source": [
        "!pip install mysql.connector"
      ]
    },
    {
      "cell_type": "code",
      "execution_count": null,
      "metadata": {
        "colab": {
          "base_uri": "https://localhost:8080/"
        },
        "id": "Xet-aa2E44LF",
        "outputId": "df40c7e5-3f6f-4945-eb45-df8b8631f8d1"
      },
      "outputs": [
        {
          "output_type": "stream",
          "name": "stdout",
          "text": [
            "Collecting mysql-connector-python\n",
            "  Downloading mysql_connector_python-9.3.0-cp311-cp311-manylinux_2_28_x86_64.whl.metadata (7.2 kB)\n",
            "Downloading mysql_connector_python-9.3.0-cp311-cp311-manylinux_2_28_x86_64.whl (33.9 MB)\n",
            "\u001b[2K   \u001b[90m━━━━━━━━━━━━━━━━━━━━━━━━━━━━━━━━━━━━━━━━\u001b[0m \u001b[32m33.9/33.9 MB\u001b[0m \u001b[31m49.4 MB/s\u001b[0m eta \u001b[36m0:00:00\u001b[0m\n",
            "\u001b[?25hInstalling collected packages: mysql-connector-python\n",
            "Successfully installed mysql-connector-python-9.3.0\n"
          ]
        }
      ],
      "source": [
        "!pip install mysql-connector-python"
      ]
    },
    {
      "cell_type": "code",
      "execution_count": null,
      "metadata": {
        "id": "pZzQwOjO4Foo"
      },
      "outputs": [],
      "source": [
        "import mysql.connector\n",
        "\n",
        "\n",
        "# Establish the connection\n",
        "conn = mysql.connector.connect(\n",
        "    host=\"gateway01.ap-southeast-1.prod.aws.tidbcloud.com\",  # or your actual host/IP\n",
        "    user=\"2ZoP6qND9CYzFo1.root\",  # your MySQL username\n",
        "    password=\"JL7wxYjzWssXnkdm\",   # your MySQL password\n",
        "    port=4000,                     # custom port, fine if your server uses it\n",
        "\n",
        "   )\n",
        "cursor = conn.cursor()\n",
        "\n",
        "cursor.execute(\"CREATE DATABASE IF NOT EXISTS NASA\")\n",
        "cursor.execute(\"USE NASA\")\n",
        "\n",
        "# Create asteroids table\n",
        "table_query_as = \"\"\"\n",
        "CREATE TABLE IF NOT EXISTS asteroids(\n",
        "    id INT,\n",
        "    name VARCHAR(255),\n",
        "    magnitude FLOAT,\n",
        "    estimated_diameter_min FLOAT,\n",
        "    estimated_diameter_max FLOAT,\n",
        "    is_potentially_hazardous_asteroid VARCHAR(50)\n",
        ")\n",
        "\"\"\"\n",
        "\n",
        "# Create close_approach table\n",
        "table_query_cl = \"\"\"\n",
        "CREATE TABLE IF NOT EXISTS close_approach(\n",
        "    neo_reference_id INT,\n",
        "    close_approach_date DATE,\n",
        "    relative_velocity_kmph FLOAT,\n",
        "    astronomical_AU FLOAT,\n",
        "    miss_distance_km FLOAT,\n",
        "    miss_distance_lunar FLOAT,\n",
        "    orbiting_body VARCHAR(255)\n",
        ")\n",
        "\"\"\"\n",
        "\n",
        "cursor.execute(table_query_as)\n",
        "cursor.execute(table_query_cl)\n",
        "\n",
        "insert_query = \"\"\"\n",
        "INSERT INTO asteroids (id, name, magnitude, estimated_diameter_min, estimated_diameter_max, is_potentially_hazardous_asteroid)\n",
        "VALUES (%s, %s, %s, %s, %s, %s)\n",
        "\"\"\"\n",
        "insert_close_approach_query = \"\"\"\n",
        "INSERT INTO close_approach (\n",
        "    neo_reference_id,\n",
        "    close_approach_date,\n",
        "    relative_velocity_kmph,\n",
        "    astronomical_AU,\n",
        "    miss_distance_km,\n",
        "    miss_distance_lunar,\n",
        "    orbiting_body\n",
        ")\n",
        "VALUES (%s, %s, %s, %s, %s, %s, %s)\n",
        "\"\"\"\n"
      ]
    },
    {
      "cell_type": "code",
      "execution_count": null,
      "metadata": {
        "id": "ZW6OJwSNz1Z-"
      },
      "outputs": [],
      "source": [
        "\n",
        "asteroid_rows = []\n",
        "close_approach_rows = []\n",
        "\n",
        "\n",
        "for asteroid in asteroids_data:\n",
        "    asteroid_row = (\n",
        "        asteroid['id'],\n",
        "        asteroid['name'],\n",
        "        asteroid['magnitude'],\n",
        "        asteroid['estimated_dia_min'],\n",
        "        asteroid['estimated_dia_max'],\n",
        "        asteroid['hazardous_asteroid']\n",
        "    )\n",
        "    asteroid_rows.append(asteroid_row)\n",
        "\n",
        "for asteroid in asteroids_data:\n",
        "  close_approach_row = (\n",
        "            asteroid['neo_ref_id'],\n",
        "            asteroid['close_approach_date'],\n",
        "            asteroid['relativevelocity'],\n",
        "            asteroid['astronomical'],\n",
        "            asteroid['missdistancekm'],\n",
        "            asteroid['missdistancelunar'],\n",
        "            asteroid['orbitingbody']\n",
        "        )\n",
        "  close_approach_rows.append(close_approach_row)\n",
        "\n",
        "cursor.executemany(insert_query, asteroid_rows)\n",
        "cursor.executemany(insert_close_approach_query, close_approach_rows)\n",
        "\n",
        "\n",
        "conn.commit()"
      ]
    },
    {
      "cell_type": "markdown",
      "source": [
        "Find the average miss distance (in km) for each asteroid,Include the number of approaches per **asteroid**"
      ],
      "metadata": {
        "id": "j9-pMc_9s48O"
      }
    },
    {
      "cell_type": "code",
      "source": [
        "cursor.execute(\"\"\"\n",
        "SELECT\n",
        "    neo_reference_id,\n",
        "    COUNT(*) AS approach_count,\n",
        "    AVG(miss_distance_km) AS avg_miss_distance_km\n",
        "FROM\n",
        "    close_approach\n",
        "GROUP BY\n",
        "    neo_reference_id;\n",
        "\n",
        "\"\"\")\n",
        "rows = cursor.fetchall()\n",
        "for row in rows:\n",
        "    print(f\"Asteroid ID: {row[0]}, Approaches: {row[1]}, Avg Miss Distance (km): {row[2]:,.2f}\")"
      ],
      "metadata": {
        "id": "Bgyt1hhmsLsk"
      },
      "execution_count": null,
      "outputs": []
    },
    {
      "cell_type": "markdown",
      "source": [
        "Asteroid with fastest ever approach speed"
      ],
      "metadata": {
        "id": "LS68fNRgxm1z"
      }
    },
    {
      "cell_type": "code",
      "source": [
        "cursor.execute(\"\"\"\n",
        "SELECT *\n",
        "FROM close_approach\n",
        "ORDER BY relative_velocity_kmph DESC\n",
        "LIMIT 1;\n",
        "\"\"\"\n",
        ")\n",
        "row = cursor.fetchone()\n",
        "\n",
        "# Print the result in a readable format\n",
        "columns = [desc[0] for desc in cursor.description]  # Get column names\n",
        "result = dict(zip(columns, row))\n",
        "\n",
        "for key, value in result.items():\n",
        "    print(f\"{key}: {value}\")\n"
      ],
      "metadata": {
        "colab": {
          "base_uri": "https://localhost:8080/"
        },
        "id": "oBvUUz3HwrK-",
        "outputId": "d5be737f-e9d9-4e32-9ee1-8f414dc7c850"
      },
      "execution_count": null,
      "outputs": [
        {
          "output_type": "stream",
          "name": "stdout",
          "text": [
            "neo_reference_id: 54392072\n",
            "close_approach_date: 2024-11-22\n",
            "relative_velocity_kmph: 173071.83\n",
            "astronomical_AU: 0.49434707\n",
            "miss_distance_km: 73953260.0\n",
            "miss_distance_lunar: 192.30101\n",
            "orbiting_body: Earth\n"
          ]
        }
      ]
    },
    {
      "cell_type": "markdown",
      "source": [
        "Identify the asteroids that approached earch on weekend"
      ],
      "metadata": {
        "id": "haOn9xVU2unR"
      }
    },
    {
      "cell_type": "code",
      "source": [
        "\n",
        "cursor.execute(\"\"\"\n",
        "SELECT *\n",
        "FROM close_approach\n",
        "WHERE DAYOFWEEK(close_approach_date) IN (1, 7);\n",
        "\"\"\"\n",
        ")\n",
        "rows = cursor.fetchall()\n",
        "\n",
        "columns = [desc[0] for desc in cursor.description]\n",
        "\n",
        "for row in rows:\n",
        "    record = dict(zip(columns, row))\n",
        "    print(record)\n"
      ],
      "metadata": {
        "id": "XMbFvWFVxrP0"
      },
      "execution_count": null,
      "outputs": []
    },
    {
      "cell_type": "markdown",
      "source": [
        "Find asteroids that are unusually dim (magnitude <20 )"
      ],
      "metadata": {
        "id": "C6rEVlTT3tVm"
      }
    },
    {
      "cell_type": "code",
      "source": [
        "cursor.execute(\"\"\"\n",
        "SELECT name, magnitude\n",
        "FROM asteroids\n",
        "WHERE magnitude < 20;\n",
        "\"\"\"\n",
        ")\n",
        "rows = cursor.fetchall()\n",
        "\n",
        "# Get column names\n",
        "columns = [desc[0] for desc in cursor.description]\n",
        "\n",
        "# Print results\n",
        "for row in rows:\n",
        "    record = dict(zip(columns, row))\n",
        "    print(record)\n"
      ],
      "metadata": {
        "id": "aktNeyBL25ll"
      },
      "execution_count": null,
      "outputs": []
    },
    {
      "cell_type": "markdown",
      "source": [
        "List all asteroids that approached Earth with a relative velocity more than 2 times the average velocity of all approaches"
      ],
      "metadata": {
        "id": "YVI-LBB55lFu"
      }
    },
    {
      "cell_type": "code",
      "source": [
        "query = \"\"\"\n",
        "SELECT *\n",
        "FROM close_approach\n",
        "WHERE relative_velocity_kmph > (\n",
        "    SELECT 2 * AVG(relative_velocity_kmph) FROM close_approach\n",
        ");\n",
        "\"\"\"\n",
        "\n",
        "cursor.execute(query)\n",
        "rows = cursor.fetchall()\n",
        "\n",
        "# Display results with column names\n",
        "columns = [desc[0] for desc in cursor.description]\n",
        "for row in rows:\n",
        "    print(dict(zip(columns, row)))\n"
      ],
      "metadata": {
        "id": "NJMs-PQ0484w"
      },
      "execution_count": null,
      "outputs": []
    },
    {
      "cell_type": "code",
      "source": [
        "query = \"\"\"\n",
        "SELECT id, name, estimated_diameter_min, estimated_diameter_max,\n",
        "       (estimated_diameter_max - estimated_diameter_min) AS diameter_range\n",
        "FROM asteroids\n",
        "WHERE (estimated_diameter_max - estimated_diameter_min) > 0.3\n",
        "ORDER BY diameter_range DESC\n",
        "\"\"\"\n",
        "\n",
        "cursor.execute(query)\n",
        "rows = cursor.fetchall()\n",
        "\n",
        "# Get column names\n",
        "columns = [desc[0] for desc in cursor.description]\n",
        "\n",
        "# Convert to dictionary list (or DataFrame)\n",
        "results = [dict(zip(columns, row)) for row in rows]\n",
        "\n",
        "# Print or display\n",
        "for asteroid in results:\n",
        "    print(asteroid)\n"
      ],
      "metadata": {
        "id": "whe45p_-_pCH"
      },
      "execution_count": null,
      "outputs": []
    },
    {
      "cell_type": "code",
      "execution_count": null,
      "metadata": {
        "colab": {
          "base_uri": "https://localhost:8080/"
        },
        "id": "Qw9o_5rPz1WG",
        "outputId": "58e063f3-518d-47d4-c3dc-3f9ddad830cd"
      },
      "outputs": [
        {
          "output_type": "stream",
          "name": "stdout",
          "text": [
            "Overwriting app.py\n"
          ]
        }
      ],
      "source": [
        "%%writefile app.py\n",
        "import streamlit as st\n",
        "import pandas as pd\n",
        "import mysql.connector\n",
        "import plotly.express as px\n",
        "\n",
        "# Connect to DB\n",
        "@st.cache_resource\n",
        "def connect_db():\n",
        "    return mysql.connector.connect(\n",
        "        host=\"gateway01.ap-southeast-1.prod.aws.tidbcloud.com\",\n",
        "        user=\"2ZoP6qND9CYzFo1.root\",  # your MySQL username\n",
        "        password=\"JL7wxYjzWssXnkdm\",\n",
        "        port=4000,\n",
        "        database=\"NASA\"\n",
        "    )\n",
        "\n",
        "conn = connect_db()\n",
        "cursor = conn.cursor(dictionary=True)\n",
        "\n",
        "st.set_page_config(page_title=\"NASA Asteroids Dashboard\", layout=\"wide\")\n",
        "\n",
        "# --- Sidebar ---\n",
        "st.sidebar.title(\"🔭 NASA Dashboard Options\")\n",
        "selected_table = st.sidebar.selectbox(\"Choose Table\", [\"asteroids\", \"close_approach\"])\n",
        "\n",
        "@st.cache_data\n",
        "def load_table(table_name):\n",
        "    cursor.execute(f\"SELECT * FROM {table_name}\")\n",
        "    return pd.DataFrame(cursor.fetchall())\n",
        "\n",
        "df = load_table(selected_table)\n",
        "\n",
        "# --- Metrics ---\n",
        "st.title(\"☄️ NASA Asteroid & Close Approach Data Explorer\")\n",
        "col1, col2, col3 = st.columns(3)\n",
        "col1.metric(\"📦 Total Records\", len(df))\n",
        "if selected_table == \"asteroids\":\n",
        "    hazard_count = df['is_potentially_hazardous_asteroid'].value_counts().get(\"Yes\", 0)\n",
        "    col2.metric(\"⚠️ Hazardous\", hazard_count)\n",
        "    col3.metric(\"🪨 Avg. Diameter (km)\", round(df['estimated_diameter_max'].mean(), 2))\n",
        "\n",
        "# --- Tabs Layout ---\n",
        "tab1, tab2, tab3, tab4 = st.tabs([\"📋 Table\", \"🔍 Filters\", \"🧠 SQL Playground\", \"📊 Charts\"])\n",
        "\n",
        "# --- Tab 1: Raw Table View ---\n",
        "with tab1:\n",
        "    st.subheader(f\"Raw Data: {selected_table}\")\n",
        "    st.dataframe(df, use_container_width=True)\n",
        "    st.download_button(\"📥 Download CSV\", df.to_csv(index=False), file_name=f\"{selected_table}.csv\")\n",
        "\n",
        "# --- Tab 2: Filtered View ---\n",
        "with tab2:\n",
        "    st.subheader(\"🔍 Filter Controls\")\n",
        "\n",
        "    if selected_table == \"asteroids\":\n",
        "        mag_range = st.slider(\"Magnitude Range\", 0.0, 40.0, (15.0, 25.0))\n",
        "        dia_range = st.slider(\"Estimated Diameter (min)\", 0.0, 2.0, (0.1, 1.0))\n",
        "        hazard_filter = st.checkbox(\"Only show hazardous asteroids\")\n",
        "\n",
        "        filtered_df = df[\n",
        "            (df['magnitude'].between(*mag_range)) &\n",
        "            (df['estimated_diameter_min'].between(*dia_range))\n",
        "        ]\n",
        "        if hazard_filter:\n",
        "            filtered_df = filtered_df[df['is_potentially_hazardous_asteroid'] == \"Yes\"]\n",
        "\n",
        "        st.dataframe(filtered_df, use_container_width=True)\n",
        "\n",
        "    elif selected_table == \"close_approach\":\n",
        "        st.subheader(\"📅 Filter Close Approaches by Date Range\")\n",
        "\n",
        "        # Ensure date column is datetime type\n",
        "        df['close_approach_date'] = pd.to_datetime(df['close_approach_date'])\n",
        "\n",
        "        min_date = df['close_approach_date'].min().date()\n",
        "        max_date = df['close_approach_date'].max().date()\n",
        "\n",
        "        date_range = st.date_input(\n",
        "            \"Select Close Approach Date Range\",\n",
        "            value=(min_date, max_date),\n",
        "            min_value=min_date,\n",
        "            max_value=max_date\n",
        "        )\n",
        "\n",
        "        if isinstance(date_range, tuple) and len(date_range) == 2:\n",
        "            start_date, end_date = date_range\n",
        "            filtered_df = df[\n",
        "                (df['close_approach_date'] >= pd.to_datetime(start_date)) &\n",
        "                (df['close_approach_date'] <= pd.to_datetime(end_date))\n",
        "            ]\n",
        "            st.success(f\"✅ Showing records from {start_date} to {end_date}\")\n",
        "            st.dataframe(filtered_df, use_container_width=True)\n",
        "        else:\n",
        "            st.info(\"ℹ️ Please select a valid date range to view filtered results.\")\n",
        "\n",
        "\n",
        "# --- Tab 3: SQL Playground ---\n",
        "with tab3:\n",
        "    st.subheader(\"🧠 Predefined SQL Queries\")\n",
        "\n",
        "    predefined_queries = [\n",
        "    {\n",
        "        \"title\": \"🧮 Count how many times each asteroid has approached Earth\",\n",
        "        \"sql\": \"\"\"\n",
        "        SELECT neo_reference_id, COUNT(*) AS approach_count\n",
        "        FROM close_approach\n",
        "        GROUP BY neo_reference_id\n",
        "        ORDER BY approach_count DESC\n",
        "        \"\"\"\n",
        "    },\n",
        "    {\n",
        "        \"title\": \"🚀 Average velocity of each asteroid over multiple approaches\",\n",
        "        \"sql\": \"\"\"\n",
        "        SELECT neo_reference_id, AVG(relative_velocity_kmph) AS avg_velocity\n",
        "        FROM close_approach\n",
        "        GROUP BY neo_reference_id\n",
        "        ORDER BY avg_velocity DESC\n",
        "        \"\"\"\n",
        "    },\n",
        "    {\n",
        "        \"title\": \"⚡ Top 10 fastest asteroids\",\n",
        "        \"sql\": \"\"\"\n",
        "        SELECT * FROM close_approach\n",
        "        ORDER BY relative_velocity_kmph DESC\n",
        "        LIMIT 10\n",
        "        \"\"\"\n",
        "    },\n",
        "    {\n",
        "        \"title\": \"☄️ Hazardous asteroids with more than 3 approaches\",\n",
        "        \"sql\": \"\"\"\n",
        "        SELECT a.name, ca.neo_reference_id, COUNT(*) AS approach_count\n",
        "        FROM asteroids a\n",
        "        JOIN close_approach ca ON a.id = ca.neo_reference_id\n",
        "        WHERE a.is_potentially_hazardous_asteroid = 'Yes'\n",
        "        GROUP BY ca.neo_reference_id\n",
        "        HAVING COUNT(*) > 3\n",
        "        \"\"\"\n",
        "    },\n",
        "    {\n",
        "        \"title\": \"📅 Month with the most asteroid approaches\",\n",
        "        \"sql\": \"\"\"\n",
        "        SELECT MONTH(close_approach_date) AS month, COUNT(*) AS count\n",
        "        FROM close_approach\n",
        "        GROUP BY month\n",
        "        ORDER BY count DESC\n",
        "        LIMIT 1\n",
        "        \"\"\"\n",
        "    },\n",
        "    {\n",
        "        \"title\": \"🚀 Asteroid with fastest ever approach speed\",\n",
        "        \"sql\": \"\"\"\n",
        "        SELECT * FROM close_approach\n",
        "        ORDER BY relative_velocity_kmph DESC\n",
        "        LIMIT 1\n",
        "        \"\"\"\n",
        "    },\n",
        "    {\n",
        "        \"title\": \"📏 Sort asteroids by max estimated diameter (desc)\",\n",
        "        \"sql\": \"\"\"\n",
        "        SELECT * FROM asteroids\n",
        "        ORDER BY estimated_diameter_max DESC\n",
        "        LIMIT 10\n",
        "        \"\"\"\n",
        "    },\n",
        "    {\n",
        "        \"title\": \"📉 Asteroids getting closer over time\",\n",
        "        \"sql\": \"\"\"\n",
        "        SELECT neo_reference_id, close_approach_date, miss_distance_km\n",
        "        FROM close_approach\n",
        "        ORDER BY neo_reference_id, close_approach_date\n",
        "        \"\"\"\n",
        "    },\n",
        "    {\n",
        "        \"title\": \"📌 Closest approach for each asteroid (name, date, distance)\",\n",
        "        \"sql\": \"\"\"\n",
        "        SELECT a.name, ca.close_approach_date, ca.miss_distance_km\n",
        "        FROM asteroids a\n",
        "        JOIN close_approach ca ON a.id = ca.neo_reference_id\n",
        "        WHERE (ca.neo_reference_id, ca.miss_distance_km) IN (\n",
        "            SELECT neo_reference_id, MIN(miss_distance_km)\n",
        "            FROM close_approach\n",
        "            GROUP BY neo_reference_id\n",
        "        )\n",
        "        ORDER BY ca.miss_distance_km ASC\n",
        "        \"\"\"\n",
        "    },\n",
        "    {\n",
        "        \"title\": \"💨 Asteroids with velocity > 50,000 km/h\",\n",
        "        \"sql\": \"\"\"\n",
        "        SELECT * FROM close_approach\n",
        "        WHERE relative_velocity_kmph > 50000\n",
        "        ORDER BY relative_velocity_kmph DESC\n",
        "        \"\"\"\n",
        "    },\n",
        "    {\n",
        "        \"title\": \"📊 Count of approaches per month\",\n",
        "        \"sql\": \"\"\"\n",
        "        SELECT MONTH(close_approach_date) AS month, COUNT(*) AS total\n",
        "        FROM close_approach\n",
        "        GROUP BY month\n",
        "        ORDER BY month\n",
        "        \"\"\"\n",
        "    },\n",
        "    {\n",
        "        \"title\": \"✨ Asteroid with highest brightness (lowest magnitude)\",\n",
        "        \"sql\": \"\"\"\n",
        "        SELECT * FROM asteroids\n",
        "        ORDER BY magnitude ASC\n",
        "        LIMIT 1\n",
        "        \"\"\"\n",
        "    },\n",
        "    {\n",
        "        \"title\": \"🧮 Hazardous vs Non-Hazardous asteroid counts\",\n",
        "        \"sql\": \"\"\"\n",
        "        SELECT is_potentially_hazardous_asteroid, COUNT(*) AS total\n",
        "        FROM asteroids\n",
        "        GROUP BY is_potentially_hazardous_asteroid\n",
        "        \"\"\"\n",
        "    },\n",
        "    {\n",
        "        \"title\": \"🌙 Asteroids that passed closer than the Moon (< 1 LD)\",\n",
        "        \"sql\": \"\"\"\n",
        "        SELECT a.name, ca.close_approach_date, ca.miss_distance_lunar\n",
        "        FROM asteroids a\n",
        "        JOIN close_approach ca ON a.id = ca.neo_reference_id\n",
        "        WHERE ca.miss_distance_lunar < 1\n",
        "        ORDER BY ca.miss_distance_lunar ASC\n",
        "        \"\"\"\n",
        "    },\n",
        "    {\n",
        "        \"title\": \"🪐 Asteroids that came within 0.05 AU\",\n",
        "        \"sql\": \"\"\"\n",
        "        SELECT a.name, ca.close_approach_date, ca.astronomical_AU\n",
        "        FROM asteroids a\n",
        "        JOIN close_approach ca ON a.id = ca.neo_reference_id\n",
        "        WHERE ca.astronomical_AU < 0.05\n",
        "        ORDER BY ca.astronomical_AU ASC\n",
        "        \"\"\"\n",
        "    },\n",
        "    {\n",
        "        \"title\": \"📆 Identify the asteroids that approached Earth on weekend\",\n",
        "        \"sql\": \"\"\"\n",
        "        SELECT * FROM close_approach\n",
        "        WHERE DAYOFWEEK(close_approach_date) IN (1, 7)\n",
        "        \"\"\"\n",
        "    },\n",
        "    {\n",
        "        \"title\": \"🌑 Find asteroids that are unusually dim (magnitude < 20)\",\n",
        "        \"sql\": \"\"\"\n",
        "        SELECT name, magnitude\n",
        "        FROM asteroids\n",
        "        WHERE magnitude < 20\n",
        "        \"\"\"\n",
        "    },\n",
        "    {\n",
        "        \"title\": \"⚠️ List asteroids with velocity > 2× average velocity\",\n",
        "        \"sql\": \"\"\"\n",
        "        SELECT *\n",
        "        FROM close_approach\n",
        "        WHERE relative_velocity_kmph > (\n",
        "            SELECT 2 * AVG(relative_velocity_kmph) FROM close_approach\n",
        "        )\n",
        "        \"\"\"\n",
        "    },\n",
        "    {\n",
        "        \"title\": \"📍 Find the average miss distance in km for each asteroid\",\n",
        "        \"sql\": \"\"\"\n",
        "        SELECT neo_reference_id,\n",
        "               COUNT(*) AS approach_count,\n",
        "               AVG(miss_distance_km) AS avg_miss_distance_km\n",
        "        FROM close_approach\n",
        "        GROUP BY neo_reference_id\n",
        "        \"\"\"\n",
        "    },\n",
        "\n",
        "    {\n",
        "         \"title\": \"🔎 Asteroids with large diameter range (> 0.3 km)\",\n",
        "         \"sql\": \"\"\"\n",
        "         SELECT id, name, estimated_diameter_min, estimated_diameter_max,\n",
        "           (estimated_diameter_max - estimated_diameter_min) AS diameter_range\n",
        "         FROM asteroids\n",
        "         WHERE (estimated_diameter_max - estimated_diameter_min) > 0.3\n",
        "         ORDER BY diameter_range DESC\n",
        "        \"\"\"\n",
        "    }\n",
        "\n",
        "  ]\n",
        "\n",
        "\n",
        "    query_titles = [q[\"title\"] for q in predefined_queries]\n",
        "    selected_query_title = st.selectbox(\"📚 Choose a Predefined Query\", query_titles)\n",
        "    selected_sql = next(q[\"sql\"] for q in predefined_queries if q[\"title\"] == selected_query_title)\n",
        "\n",
        "    st.code(selected_sql, language=\"sql\")\n",
        "\n",
        "    if st.button(\"Run SQL Query\"):\n",
        "        try:\n",
        "            cursor.execute(selected_sql)\n",
        "            query_result = cursor.fetchall()\n",
        "            result_df = pd.DataFrame(query_result)\n",
        "            st.success(\"✅ Query executed successfully\")\n",
        "            st.dataframe(result_df, use_container_width=True)\n",
        "            st.download_button(\"⬇️ Download Result\", result_df.to_csv(index=False), file_name=\"query_result.csv\")\n",
        "        except Exception as e:\n",
        "            st.error(f\"❌ SQL Error: {e}\")\n",
        "\n",
        "# --- Tab 4: Charts ---\n",
        "with tab4:\n",
        "    st.subheader(\"📊 Visual Analytics\")\n",
        "    if selected_table == \"asteroids\":\n",
        "        fig = px.scatter(\n",
        "            df,\n",
        "            x=\"magnitude\",\n",
        "            y=\"estimated_diameter_max\",\n",
        "            color=\"is_potentially_hazardous_asteroid\",\n",
        "            title=\"Magnitude vs Diameter\",\n",
        "            labels={\"is_potentially_hazardous_asteroid\": \"Hazardous?\"}\n",
        "        )\n",
        "        st.plotly_chart(fig, use_container_width=True)\n",
        "\n",
        "    elif selected_table == \"close_approach\":\n",
        "        st.markdown(\"### Miss Distance Histogram (km)\")\n",
        "        fig = px.histogram(df, x=\"miss_distance_km\", nbins=40)\n",
        "        st.plotly_chart(fig, use_container_width=True)\n"
      ]
    },
    {
      "cell_type": "code",
      "execution_count": null,
      "metadata": {
        "colab": {
          "base_uri": "https://localhost:8080/"
        },
        "id": "y_gf5T_JxOd3",
        "outputId": "04e48280-24ba-49e1-8e11-143e39f40d84"
      },
      "outputs": [
        {
          "output_type": "stream",
          "name": "stdout",
          "text": [
            "35.194.91.126\n"
          ]
        }
      ],
      "source": [
        "!wget -q -O - ipv4.icanhazip.com"
      ]
    },
    {
      "cell_type": "code",
      "execution_count": null,
      "metadata": {
        "colab": {
          "base_uri": "https://localhost:8080/"
        },
        "id": "NxUFcvXS1Z3z",
        "outputId": "e66745df-7487-4343-e3c0-cfada88266a6"
      },
      "outputs": [
        {
          "output_type": "stream",
          "name": "stdout",
          "text": [
            "Collecting streamlit\n",
            "  Downloading streamlit-1.46.1-py3-none-any.whl.metadata (9.0 kB)\n",
            "Requirement already satisfied: altair<6,>=4.0 in /usr/local/lib/python3.11/dist-packages (from streamlit) (5.5.0)\n",
            "Requirement already satisfied: blinker<2,>=1.5.0 in /usr/local/lib/python3.11/dist-packages (from streamlit) (1.9.0)\n",
            "Requirement already satisfied: cachetools<7,>=4.0 in /usr/local/lib/python3.11/dist-packages (from streamlit) (5.5.2)\n",
            "Requirement already satisfied: click<9,>=7.0 in /usr/local/lib/python3.11/dist-packages (from streamlit) (8.2.1)\n",
            "Requirement already satisfied: numpy<3,>=1.23 in /usr/local/lib/python3.11/dist-packages (from streamlit) (2.0.2)\n",
            "Requirement already satisfied: packaging<26,>=20 in /usr/local/lib/python3.11/dist-packages (from streamlit) (24.2)\n",
            "Requirement already satisfied: pandas<3,>=1.4.0 in /usr/local/lib/python3.11/dist-packages (from streamlit) (2.2.2)\n",
            "Requirement already satisfied: pillow<12,>=7.1.0 in /usr/local/lib/python3.11/dist-packages (from streamlit) (11.2.1)\n",
            "Requirement already satisfied: protobuf<7,>=3.20 in /usr/local/lib/python3.11/dist-packages (from streamlit) (5.29.5)\n",
            "Requirement already satisfied: pyarrow>=7.0 in /usr/local/lib/python3.11/dist-packages (from streamlit) (18.1.0)\n",
            "Requirement already satisfied: requests<3,>=2.27 in /usr/local/lib/python3.11/dist-packages (from streamlit) (2.32.3)\n",
            "Requirement already satisfied: tenacity<10,>=8.1.0 in /usr/local/lib/python3.11/dist-packages (from streamlit) (8.5.0)\n",
            "Requirement already satisfied: toml<2,>=0.10.1 in /usr/local/lib/python3.11/dist-packages (from streamlit) (0.10.2)\n",
            "Requirement already satisfied: typing-extensions<5,>=4.4.0 in /usr/local/lib/python3.11/dist-packages (from streamlit) (4.14.0)\n",
            "Collecting watchdog<7,>=2.1.5 (from streamlit)\n",
            "  Downloading watchdog-6.0.0-py3-none-manylinux2014_x86_64.whl.metadata (44 kB)\n",
            "\u001b[2K     \u001b[90m━━━━━━━━━━━━━━━━━━━━━━━━━━━━━━━━━━━━━━━━\u001b[0m \u001b[32m44.3/44.3 kB\u001b[0m \u001b[31m3.6 MB/s\u001b[0m eta \u001b[36m0:00:00\u001b[0m\n",
            "\u001b[?25hRequirement already satisfied: gitpython!=3.1.19,<4,>=3.0.7 in /usr/local/lib/python3.11/dist-packages (from streamlit) (3.1.44)\n",
            "Collecting pydeck<1,>=0.8.0b4 (from streamlit)\n",
            "  Downloading pydeck-0.9.1-py2.py3-none-any.whl.metadata (4.1 kB)\n",
            "Requirement already satisfied: tornado!=6.5.0,<7,>=6.0.3 in /usr/local/lib/python3.11/dist-packages (from streamlit) (6.4.2)\n",
            "Requirement already satisfied: jinja2 in /usr/local/lib/python3.11/dist-packages (from altair<6,>=4.0->streamlit) (3.1.6)\n",
            "Requirement already satisfied: jsonschema>=3.0 in /usr/local/lib/python3.11/dist-packages (from altair<6,>=4.0->streamlit) (4.24.0)\n",
            "Requirement already satisfied: narwhals>=1.14.2 in /usr/local/lib/python3.11/dist-packages (from altair<6,>=4.0->streamlit) (1.45.0)\n",
            "Requirement already satisfied: gitdb<5,>=4.0.1 in /usr/local/lib/python3.11/dist-packages (from gitpython!=3.1.19,<4,>=3.0.7->streamlit) (4.0.12)\n",
            "Requirement already satisfied: python-dateutil>=2.8.2 in /usr/local/lib/python3.11/dist-packages (from pandas<3,>=1.4.0->streamlit) (2.9.0.post0)\n",
            "Requirement already satisfied: pytz>=2020.1 in /usr/local/lib/python3.11/dist-packages (from pandas<3,>=1.4.0->streamlit) (2025.2)\n",
            "Requirement already satisfied: tzdata>=2022.7 in /usr/local/lib/python3.11/dist-packages (from pandas<3,>=1.4.0->streamlit) (2025.2)\n",
            "Requirement already satisfied: charset-normalizer<4,>=2 in /usr/local/lib/python3.11/dist-packages (from requests<3,>=2.27->streamlit) (3.4.2)\n",
            "Requirement already satisfied: idna<4,>=2.5 in /usr/local/lib/python3.11/dist-packages (from requests<3,>=2.27->streamlit) (3.10)\n",
            "Requirement already satisfied: urllib3<3,>=1.21.1 in /usr/local/lib/python3.11/dist-packages (from requests<3,>=2.27->streamlit) (2.4.0)\n",
            "Requirement already satisfied: certifi>=2017.4.17 in /usr/local/lib/python3.11/dist-packages (from requests<3,>=2.27->streamlit) (2025.6.15)\n",
            "Requirement already satisfied: smmap<6,>=3.0.1 in /usr/local/lib/python3.11/dist-packages (from gitdb<5,>=4.0.1->gitpython!=3.1.19,<4,>=3.0.7->streamlit) (5.0.2)\n",
            "Requirement already satisfied: MarkupSafe>=2.0 in /usr/local/lib/python3.11/dist-packages (from jinja2->altair<6,>=4.0->streamlit) (3.0.2)\n",
            "Requirement already satisfied: attrs>=22.2.0 in /usr/local/lib/python3.11/dist-packages (from jsonschema>=3.0->altair<6,>=4.0->streamlit) (25.3.0)\n",
            "Requirement already satisfied: jsonschema-specifications>=2023.03.6 in /usr/local/lib/python3.11/dist-packages (from jsonschema>=3.0->altair<6,>=4.0->streamlit) (2025.4.1)\n",
            "Requirement already satisfied: referencing>=0.28.4 in /usr/local/lib/python3.11/dist-packages (from jsonschema>=3.0->altair<6,>=4.0->streamlit) (0.36.2)\n",
            "Requirement already satisfied: rpds-py>=0.7.1 in /usr/local/lib/python3.11/dist-packages (from jsonschema>=3.0->altair<6,>=4.0->streamlit) (0.26.0)\n",
            "Requirement already satisfied: six>=1.5 in /usr/local/lib/python3.11/dist-packages (from python-dateutil>=2.8.2->pandas<3,>=1.4.0->streamlit) (1.17.0)\n",
            "Downloading streamlit-1.46.1-py3-none-any.whl (10.1 MB)\n",
            "\u001b[2K   \u001b[90m━━━━━━━━━━━━━━━━━━━━━━━━━━━━━━━━━━━━━━━━\u001b[0m \u001b[32m10.1/10.1 MB\u001b[0m \u001b[31m104.4 MB/s\u001b[0m eta \u001b[36m0:00:00\u001b[0m\n",
            "\u001b[?25hDownloading pydeck-0.9.1-py2.py3-none-any.whl (6.9 MB)\n",
            "\u001b[2K   \u001b[90m━━━━━━━━━━━━━━━━━━━━━━━━━━━━━━━━━━━━━━━━\u001b[0m \u001b[32m6.9/6.9 MB\u001b[0m \u001b[31m107.1 MB/s\u001b[0m eta \u001b[36m0:00:00\u001b[0m\n",
            "\u001b[?25hDownloading watchdog-6.0.0-py3-none-manylinux2014_x86_64.whl (79 kB)\n",
            "\u001b[2K   \u001b[90m━━━━━━━━━━━━━━━━━━━━━━━━━━━━━━━━━━━━━━━━\u001b[0m \u001b[32m79.1/79.1 kB\u001b[0m \u001b[31m7.1 MB/s\u001b[0m eta \u001b[36m0:00:00\u001b[0m\n",
            "\u001b[?25hInstalling collected packages: watchdog, pydeck, streamlit\n",
            "Successfully installed pydeck-0.9.1 streamlit-1.46.1 watchdog-6.0.0\n"
          ]
        }
      ],
      "source": [
        "!pip install streamlit"
      ]
    },
    {
      "cell_type": "code",
      "execution_count": null,
      "metadata": {
        "colab": {
          "base_uri": "https://localhost:8080/"
        },
        "id": "KSjmszkt04Em",
        "outputId": "e05506eb-38bd-4688-ec44-c64e367d6c53"
      },
      "outputs": [
        {
          "output_type": "stream",
          "name": "stdout",
          "text": [
            "\u001b[1G\u001b[0K⠙\n",
            "Collecting usage statistics. To deactivate, set browser.gatherUsageStats to false.\n",
            "\u001b[0m\n",
            "\u001b[1G\u001b[0K⠹\u001b[1G\u001b[0K⠸\u001b[1G\u001b[0K⠼\u001b[1G\u001b[0K⠴\u001b[0m\n",
            "\u001b[34m\u001b[1m  You can now view your Streamlit app in your browser.\u001b[0m\n",
            "\u001b[0m\n",
            "\u001b[34m  Local URL: \u001b[0m\u001b[1mhttp://localhost:8501\u001b[0m\n",
            "\u001b[34m  Network URL: \u001b[0m\u001b[1mhttp://172.28.0.12:8501\u001b[0m\n",
            "\u001b[34m  External URL: \u001b[0m\u001b[1mhttp://35.194.91.126:8501\u001b[0m\n",
            "\u001b[0m\n",
            "\u001b[1G\u001b[0K⠦\u001b[1G\u001b[0K⠧\u001b[1G\u001b[0K⠇\u001b[1G\u001b[0K⠏\u001b[1G\u001b[0K⠋\u001b[1G\u001b[0K⠙\u001b[1G\u001b[0Kyour url is: https://busy-camels-hope.loca.lt\n",
            "\u001b[34m  Stopping...\u001b[0m\n",
            "^C\n"
          ]
        }
      ],
      "source": [
        "!streamlit run app.py & npx localtunnel --port 8501"
      ]
    }
  ],
  "metadata": {
    "colab": {
      "provenance": [],
      "authorship_tag": "ABX9TyNOcN4F5wD9VBlPN+0Hxai8",
      "include_colab_link": true
    },
    "kernelspec": {
      "display_name": "Python 3",
      "name": "python3"
    },
    "language_info": {
      "name": "python"
    }
  },
  "nbformat": 4,
  "nbformat_minor": 0
}